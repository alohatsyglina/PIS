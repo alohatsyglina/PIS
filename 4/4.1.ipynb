{
 "cells": [
  {
   "cell_type": "code",
   "execution_count": 180,
   "metadata": {},
   "outputs": [],
   "source": [
    "from pyeasyga import pyeasyga"
   ]
  },
  {
   "cell_type": "code",
   "execution_count": 183,
   "metadata": {},
   "outputs": [
    {
     "data": {
      "text/plain": [
       "[(708.0, 1.1, 244.0),\n",
       " (342.0, 0.7, 307.0),\n",
       " (241.0, 0.9, 385.0),\n",
       " (384.0, 0.5, 126.0),\n",
       " (1227.0, 0.7, 191.0),\n",
       " (1449.0, 0.9, 296.0),\n",
       " (877.0, 0.6, 260.0),\n",
       " (334.0, 1.0, 146.0),\n",
       " (1056.0, 1.0, 142.0),\n",
       " (280.0, 0.9, 358.0),\n",
       " (1179.0, 0.7, 145.0),\n",
       " (1594.0, 0.6, 203.0),\n",
       " (353.0, 1.2, 231.0),\n",
       " (1178.0, 0.7, 282.0),\n",
       " (470.0, 1.0, 317.0),\n",
       " (913.0, 0.8, 275.0),\n",
       " (908.0, 0.6, 294.0),\n",
       " (528.0, 1.1, 247.0),\n",
       " (1638.0, 0.9, 301.0),\n",
       " (730.0, 1.1, 388.0),\n",
       " (624.0, 1.2, 113.0),\n",
       " (828.0, 0.5, 317.0),\n",
       " (1606.0, 1.1, 251.0),\n",
       " (1598.0, 1.2, 123.0),\n",
       " (688.0, 1.1, 297.0),\n",
       " (537.0, 1.1, 237.0),\n",
       " (241.0, 0.5, 347.0),\n",
       " (1397.0, 1.2, 268.0),\n",
       " (142.0, 0.8, 298.0),\n",
       " (135.0, 0.8, 376.0)]"
      ]
     },
     "execution_count": 183,
     "metadata": {},
     "output_type": "execute_result"
    }
   ],
   "source": [
    "with open(\"30.txt\", \"r\") as f:\n",
    "    txt = f.read()\n",
    "data = []\n",
    "text_arr = txt.split(\"\\n\")\n",
    "maxWeight = int(arr[0].split(\" \")[0])\n",
    "maxVolume = int(arr[0].split(\" \")[1])\n",
    "for i in text_arr[1:]:\n",
    "    a = i.split(\" \")\n",
    "    data.append(tuple(map(float, i.split(\" \"))))\n",
    "data"
   ]
  },
  {
   "cell_type": "code",
   "execution_count": 184,
   "metadata": {},
   "outputs": [
    {
     "name": "stdout",
     "output_type": "stream",
     "text": [
      "13000\n",
      "12\n"
     ]
    }
   ],
   "source": [
    "print(maxWeight)\n",
    "print(maxVolume)"
   ]
  },
  {
   "cell_type": "code",
   "execution_count": 185,
   "metadata": {},
   "outputs": [],
   "source": [
    "def fitness(individual, data):\n",
    "    weight, volume, price = 0, 0, 0\n",
    "    data\n",
    "    for (selected, item) in zip(individual, data):\n",
    "        if selected:\n",
    "            weight += item[0]\n",
    "            volume += item[1]\n",
    "            price += item[2]\n",
    "    if weight > maxWeight or volume > maxSize:\n",
    "        price = 0\n",
    "    return price"
   ]
  },
  {
   "cell_type": "code",
   "execution_count": 191,
   "metadata": {},
   "outputs": [
    {
     "name": "stdout",
     "output_type": "stream",
     "text": [
      "(4563.0, [0, 1, 1, 0, 0, 1, 0, 0, 0, 0, 0, 1, 0, 1, 1, 1, 1, 0, 1, 0, 0, 1, 0, 0, 1, 0, 1, 1, 1, 1])\n"
     ]
    }
   ],
   "source": [
    "gal = pyeasyga.GeneticAlgorithm(data)        \n",
    "gal.population_size = 200\n",
    "gal.fitness_function = fitness               \n",
    "gal.run()                                    \n",
    "print(gal.best_individual())"
   ]
  },
  {
   "cell_type": "code",
   "execution_count": 192,
   "metadata": {},
   "outputs": [],
   "source": [
    "result = gal.best_individual()\n",
    "with open('result.txt', 'w') as file:\n",
    "    file.write(str(result))"
   ]
  }
 ],
 "metadata": {
  "kernelspec": {
   "display_name": "Python 3",
   "language": "python",
   "name": "python3"
  },
  "language_info": {
   "codemirror_mode": {
    "name": "ipython",
    "version": 3
   },
   "file_extension": ".py",
   "mimetype": "text/x-python",
   "name": "python",
   "nbconvert_exporter": "python",
   "pygments_lexer": "ipython3",
   "version": "3.8.3"
  }
 },
 "nbformat": 4,
 "nbformat_minor": 4
}
