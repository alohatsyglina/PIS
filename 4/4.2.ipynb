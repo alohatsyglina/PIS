{
 "cells": [
  {
   "cell_type": "markdown",
   "metadata": {},
   "source": [
    "### Условия\n",
    "- 1.1 - случайная генерация начальной популяции\n",
    "- 2.1 - выбор особи пропорциональоно приспособленности\n",
    "- 3.1 - скрещивание с тремя точками\n",
    "- 4.3 - мутация с добавлением одной случайной вещи\n",
    "- 5.3 - новая популяция формируется с заменой родителей"
   ]
  },
  {
   "cell_type": "code",
   "execution_count": 203,
   "metadata": {},
   "outputs": [],
   "source": [
    "import random as rnd\n",
    "import numpy as np\n",
    "import json"
   ]
  },
  {
   "cell_type": "markdown",
   "metadata": {},
   "source": [
    "### Чтение данных"
   ]
  },
  {
   "cell_type": "code",
   "execution_count": 204,
   "metadata": {},
   "outputs": [
    {
     "data": {
      "text/plain": [
       "{'items': [{'weight': 708, 'volume': 1.1, 'price': 244},\n",
       "  {'weight': 342, 'volume': 0.7, 'price': 307},\n",
       "  {'weight': 241, 'volume': 0.9, 'price': 385},\n",
       "  {'weight': 384, 'volume': 0.5, 'price': 126},\n",
       "  {'weight': 1227, 'volume': 0.7, 'price': 191},\n",
       "  {'weight': 1449, 'volume': 0.9, 'price': 296},\n",
       "  {'weight': 877, 'volume': 0.6, 'price': 260},\n",
       "  {'weight': 334, 'volume': 1.0, 'price': 146},\n",
       "  {'weight': 1056, 'volume': 1.0, 'price': 142},\n",
       "  {'weight': 280, 'volume': 0.9, 'price': 358},\n",
       "  {'weight': 1179, 'volume': 0.7, 'price': 145},\n",
       "  {'weight': 1594, 'volume': 0.6, 'price': 203},\n",
       "  {'weight': 353, 'volume': 1.2, 'price': 231},\n",
       "  {'weight': 1178, 'volume': 0.7, 'price': 282},\n",
       "  {'weight': 470, 'volume': 1.0, 'price': 317},\n",
       "  {'weight': 913, 'volume': 0.8, 'price': 275},\n",
       "  {'weight': 908, 'volume': 0.6, 'price': 294},\n",
       "  {'weight': 528, 'volume': 1.1, 'price': 247},\n",
       "  {'weight': 1638, 'volume': 0.9, 'price': 301},\n",
       "  {'weight': 730, 'volume': 1.1, 'price': 388},\n",
       "  {'weight': 624, 'volume': 1.2, 'price': 113},\n",
       "  {'weight': 828, 'volume': 0.5, 'price': 317},\n",
       "  {'weight': 1606, 'volume': 1.1, 'price': 251},\n",
       "  {'weight': 1598, 'volume': 1.2, 'price': 123},\n",
       "  {'weight': 688, 'volume': 1.1, 'price': 297},\n",
       "  {'weight': 537, 'volume': 1.1, 'price': 237},\n",
       "  {'weight': 241, 'volume': 0.5, 'price': 347},\n",
       "  {'weight': 1397, 'volume': 1.2, 'price': 268},\n",
       "  {'weight': 142, 'volume': 0.8, 'price': 298},\n",
       "  {'weight': 135, 'volume': 0.8, 'price': 376}]}"
      ]
     },
     "execution_count": 204,
     "metadata": {},
     "output_type": "execute_result"
    }
   ],
   "source": [
    "file = open('30.txt')        \n",
    "first_line = file.readline().split(' ')\n",
    "data = {'items': []}\n",
    "max_weight = int(first_line[0])\n",
    "max_volume = float(first_line[1])\n",
    "for line in file:\n",
    "    values = [x for x in line.split(' ')]\n",
    "    data['items'].append({'weight': int(values[0]), 'volume': float(values[1]), 'price': int(values[2])})\n",
    "data"
   ]
  },
  {
   "cell_type": "code",
   "execution_count": 205,
   "metadata": {},
   "outputs": [
    {
     "name": "stdout",
     "output_type": "stream",
     "text": [
      "Грузоподъемность: 13000\n",
      "Вместимость: 12.0\n"
     ]
    }
   ],
   "source": [
    "print('Грузоподъемность: '+ str(max_weight) + '\\nВместимость: '+ str(max_volume))"
   ]
  },
  {
   "cell_type": "code",
   "execution_count": 206,
   "metadata": {},
   "outputs": [],
   "source": [
    "items_count = len(data['items'])\n",
    "population_size = 200\n",
    "populations_count = 500\n",
    "cheapest_item = sorted(data['items'], key=lambda dct: dct['price'])[0]['price']"
   ]
  },
  {
   "cell_type": "markdown",
   "metadata": {},
   "source": [
    "### Создание популяции"
   ]
  },
  {
   "cell_type": "code",
   "execution_count": 207,
   "metadata": {},
   "outputs": [],
   "source": [
    "def create_individual():\n",
    "    individual = [rnd.randint(0, 1) for x in range(items_count)]\n",
    "    while not (check(individual)):\n",
    "        individual = [rnd.randint(0, 1) for x in range(items_count)]\n",
    "    return individual\n",
    "\n",
    "def check(individual):\n",
    "    total_weight = 0\n",
    "    total_volume = 0\n",
    "    for i in range(0, 30):\n",
    "        if individual[i] != 0:\n",
    "            total_weight += data['items'][i]['weight']\n",
    "            total_volume += data['items'][i]['volume']\n",
    "    if (total_weight > max_weight or total_volume > max_volume):\n",
    "        return False\n",
    "    else: return True\n",
    "    \n",
    "def create_population():\n",
    "    population = [create_individual() for x in range(population_size)]\n",
    "    return population"
   ]
  },
  {
   "cell_type": "markdown",
   "metadata": {},
   "source": [
    "### Функция приспособления"
   ]
  },
  {
   "cell_type": "code",
   "execution_count": 208,
   "metadata": {},
   "outputs": [],
   "source": [
    "def fitness(individual, data):\n",
    "    weight, volume, price = 0, 0, 0\n",
    "    data\n",
    "    for (selected, item) in zip(individual, data):\n",
    "        if selected:\n",
    "            weight += item['weight']\n",
    "            volume += item['volume']\n",
    "            price += item['price']\n",
    "    if weight > max_weight or volume > max_volume:\n",
    "        price = 0\n",
    "    return price"
   ]
  },
  {
   "cell_type": "markdown",
   "metadata": {},
   "source": [
    "### Отбор особей для скрещивания"
   ]
  },
  {
   "cell_type": "code",
   "execution_count": 209,
   "metadata": {},
   "outputs": [],
   "source": [
    "def choose_individuals(population, items):\n",
    "    chosen_individuals = []\n",
    "    candidates = []\n",
    "    for i in range(len(population)):\n",
    "        candidates.append(fitness(population[i], items))\n",
    "    best_fitness = 0\n",
    "    worst_fitness = candidates[0]\n",
    "    \n",
    "    for j in range(len(candidates)):\n",
    "        if candidates[j] > best_fitness:\n",
    "            best_fitness = candidates[j]\n",
    "\n",
    "    if candidates[j] < worst_fitness and candidates[j] != 0:\n",
    "        worst_fitness = candidates[j]\n",
    "        \n",
    "    difference = best_fitness - worst_fitness        \n",
    "    for q in range(len(candidates)):\n",
    "        candidates[q] = (candidates[q] - worst_fitness) / difference\n",
    "        if rnd.random() < candidates[q]:\n",
    "            chosen_individuals.append(population[q])\n",
    "    return chosen_individuals        "
   ]
  },
  {
   "cell_type": "markdown",
   "metadata": {},
   "source": [
    "### Скрещивание"
   ]
  },
  {
   "cell_type": "code",
   "execution_count": 210,
   "metadata": {},
   "outputs": [],
   "source": [
    "def get_children(first_parent, second_parent, items):\n",
    "    point1 = rnd.randint(0, items_count/3)\n",
    "    point2 = rnd.randint(point1, items_count/3 * 2)\n",
    "    point3 = rnd.randint(point2, items_count)\n",
    "\n",
    "    first_child = first_parent[0:point1] + second_parent[point1:point2] + first_parent[point2:point3] + second_parent[point3:]\n",
    "    second_child = second_parent[0:point1] + first_parent[point1:point2] + second_parent[point2:point3] + first_parent[point3:]\n",
    "    \n",
    "    if fitness(first_child, items) == 0:\n",
    "        firt_child = first_parent\n",
    "    if fitness(second_child, items) == 0:\n",
    "        second_child = second_parent\n",
    "        \n",
    "    return first_child, second_child\n",
    "\n",
    "def crossing_over(parents, items):\n",
    "    children = []\n",
    "    while len(parents) > 1:\n",
    "        first_parent = rnd.choice(parents)\n",
    "        parents.remove(first_parent)\n",
    "        second_parent = rnd.choice(parents)\n",
    "        parents.remove(second_parent)\n",
    "        children.extend(get_children(first_parent, second_parent, items))\n",
    "    children.extend(parents)\n",
    "    return children"
   ]
  },
  {
   "cell_type": "markdown",
   "metadata": {},
   "source": [
    "### Мутация"
   ]
  },
  {
   "cell_type": "code",
   "execution_count": 211,
   "metadata": {},
   "outputs": [],
   "source": [
    "def mutation(individual):\n",
    "    item_to_add = rnd.randint(0, len(individual) - 1)\n",
    "    mutated_individual = individual.copy()\n",
    "    while individual[item_to_add] != 0:\n",
    "        item_to_add = rnd.randint(0, len(individual) - 1)\n",
    "    mutated_individual[item_to_add] = 1\n",
    "    return mutated_individual\n",
    "\n",
    "def mutation_for_population(population):\n",
    "    number_for_mutation = int(len(population) * 0.05)\n",
    "    for i in range(number_for_mutation):\n",
    "        individual_for_mutation = rnd.randint(0, len(population) - 1)\n",
    "        mutation(population[individual_for_mutation])\n",
    "    return population"
   ]
  },
  {
   "cell_type": "markdown",
   "metadata": {},
   "source": [
    "### Формирование новой популяции"
   ]
  },
  {
   "cell_type": "code",
   "execution_count": 212,
   "metadata": {},
   "outputs": [],
   "source": [
    "def create_new_population(population, parents, children):\n",
    "    new_population = []\n",
    "    for ind in population:\n",
    "        if ind not in parents:\n",
    "            new_population.append(ind)\n",
    "    new_population.extend(children)\n",
    "    return new_population"
   ]
  },
  {
   "cell_type": "markdown",
   "metadata": {},
   "source": [
    "### Поиск лучшей особи"
   ]
  },
  {
   "cell_type": "code",
   "execution_count": 213,
   "metadata": {},
   "outputs": [],
   "source": [
    "def get_best_individual(population, items):\n",
    "    candidates = []\n",
    "\n",
    "    for ind in population:\n",
    "        candidates.append((fitness(ind, items), ind))\n",
    "\n",
    "    best_ind = candidates[0]\n",
    "    for candidate in candidates:\n",
    "        best_ind = candidate if candidate[0] > best_ind[0] else best_ind\n",
    "\n",
    "    return best_ind"
   ]
  },
  {
   "cell_type": "markdown",
   "metadata": {},
   "source": [
    "### Генетический алгоритм"
   ]
  },
  {
   "cell_type": "code",
   "execution_count": 214,
   "metadata": {},
   "outputs": [],
   "source": [
    "def ga(population, items, max_weight, max_volume, cheapest_item):\n",
    "    best_values = []\n",
    "    \n",
    "    for gen in range(populations_count):\n",
    "        \n",
    "        parents = choose_individuals(population, items)\n",
    "        children = crossing_over(parents, items)\n",
    "        population = create_new_population(population, parents, children)\n",
    "        mutation_for_population(population)\n",
    "        \n",
    "        while len(population) < population_size:\n",
    "            population.append(create_individual())\n",
    "            \n",
    "        best_individual = get_best_individual(population, items)\n",
    "        best_ind_value = best_individual[0]\n",
    "        best_values.append(best_ind_value)\n",
    "        \n",
    "        if abs(min(best_values) - max(best_values)) <= cheapest_item:\n",
    "            break\n",
    "            \n",
    "    return best_individual"
   ]
  },
  {
   "cell_type": "code",
   "execution_count": 228,
   "metadata": {},
   "outputs": [
    {
     "name": "stdout",
     "output_type": "stream",
     "text": [
      "(4348, [1, 1, 1, 0, 0, 1, 1, 0, 0, 1, 0, 0, 0, 0, 0, 0, 1, 0, 1, 0, 0, 1, 0, 0, 1, 0, 1, 1, 1, 1])\n"
     ]
    }
   ],
   "source": [
    "pop = create_population()\n",
    "result = ga(pop, data['items'], max_weight, max_volume, cheapest_item)\n",
    "print(result)"
   ]
  },
  {
   "cell_type": "code",
   "execution_count": 176,
   "metadata": {},
   "outputs": [],
   "source": [
    "def get_description(individual, items):\n",
    "    weight, volume = 0, 0\n",
    "    for (selected, item) in zip(individual, items):\n",
    "        if selected:\n",
    "            weight += item['weight']\n",
    "            volume += item['volume']\n",
    "    return weight, volume\n",
    "\n",
    "desc = get_description(result[1], data['items'])"
   ]
  },
  {
   "cell_type": "code",
   "execution_count": 200,
   "metadata": {},
   "outputs": [],
   "source": [
    "results = {\n",
    "    'Best result' : str(result[1]),\n",
    "    'Value' : result[0],\n",
    "    'Weight' : desc[0],\n",
    "    'Volume' : desc[1]    \n",
    "}"
   ]
  },
  {
   "cell_type": "code",
   "execution_count": 201,
   "metadata": {},
   "outputs": [],
   "source": [
    "with open('4.2_res.jsn', 'w') as file:\n",
    "    json.dump(results, file, indent=10)"
   ]
  }
 ],
 "metadata": {
  "kernelspec": {
   "display_name": "Python 3",
   "language": "python",
   "name": "python3"
  },
  "language_info": {
   "codemirror_mode": {
    "name": "ipython",
    "version": 3
   },
   "file_extension": ".py",
   "mimetype": "text/x-python",
   "name": "python",
   "nbconvert_exporter": "python",
   "pygments_lexer": "ipython3",
   "version": "3.8.3"
  }
 },
 "nbformat": 4,
 "nbformat_minor": 4
}
