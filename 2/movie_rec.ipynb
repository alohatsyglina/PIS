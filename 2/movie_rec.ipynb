{
 "cells": [
  {
   "cell_type": "code",
   "execution_count": 16,
   "metadata": {},
   "outputs": [],
   "source": [
    "import pandas as pd\n",
    "import numpy as np\n",
    "import math\n",
    "import json\n",
    "from collections import Counter\n",
    "import random"
   ]
  },
  {
   "cell_type": "code",
   "execution_count": 17,
   "metadata": {},
   "outputs": [],
   "source": [
    "#считываем данные \n",
    "data = pd.read_csv('data.csv')\n",
    "day = pd.read_csv('context_day.csv')\n",
    "place = pd.read_csv('context_place.csv')"
   ]
  },
  {
   "cell_type": "code",
   "execution_count": 18,
   "metadata": {},
   "outputs": [
    {
     "data": {
      "text/plain": [
       "Unnamed: 0    User 38\n",
       " Movie 1            3\n",
       " Movie 2           -1\n",
       " Movie 3            1\n",
       " Movie 4            4\n",
       " Movie 5            2\n",
       " Movie 6            3\n",
       " Movie 7            4\n",
       " Movie 8           -1\n",
       " Movie 9            5\n",
       " Movie 10           3\n",
       " Movie 11           3\n",
       " Movie 12          -1\n",
       " Movie 13           3\n",
       " Movie 14           2\n",
       " Movie 15           4\n",
       " Movie 16           3\n",
       " Movie 17           1\n",
       " Movie 18           4\n",
       " Movie 19           2\n",
       " Movie 20           1\n",
       " Movie 21           5\n",
       " Movie 22           4\n",
       " Movie 23           3\n",
       " Movie 24          -1\n",
       " Movie 25           1\n",
       " Movie 26           4\n",
       " Movie 27           3\n",
       " Movie 28          -1\n",
       " Movie 29          -1\n",
       " Movie 30           4\n",
       "Name: 37, dtype: object"
      ]
     },
     "execution_count": 18,
     "metadata": {},
     "output_type": "execute_result"
    }
   ],
   "source": [
    "#выбираем пользователя для расчета\n",
    "variant = 38\n",
    "userID = variant - 1\n",
    "data.iloc[userID]"
   ]
  },
  {
   "cell_type": "code",
   "execution_count": 19,
   "metadata": {},
   "outputs": [],
   "source": [
    "#находим метрику сходства с каждым пользователем\n",
    "def sim(v):\n",
    "    data2 = data.drop(data.columns[0], axis = 1)\n",
    "    resultList = {}\n",
    "    for u in range(data2.shape[0]):\n",
    "        num = 0\n",
    "        vdenum = 0\n",
    "        udenum = 0\n",
    "        if (u != v):        \n",
    "            uv = data2.iloc[[u, v]]\n",
    "            uv = uv.transpose()\n",
    "            for i,movie in uv.iterrows():\n",
    "                if ((movie[u] != -1) & (movie[v] != -1 )):\n",
    "                    num += movie[u] * movie[v]\n",
    "                    udenum += pow(movie[u], 2)\n",
    "                    vdenum += pow(movie[v], 2)\n",
    "                    res = round(num / ((math.sqrt(udenum) * math.sqrt(vdenum))), 3)\n",
    "        resultList[u] = res\n",
    "        #сортируем результат и выбираем четырех ближайших соседей\n",
    "        sim = list(resultList.items())\n",
    "        sim.sort(key = lambda i: i[1], reverse = True)\n",
    "        sim = sim[:4]\n",
    "    return sim"
   ]
  },
  {
   "cell_type": "code",
   "execution_count": 20,
   "metadata": {},
   "outputs": [
    {
     "data": {
      "text/plain": [
       "[(25, 0.932), (21, 0.924), (5, 0.915), (11, 0.91)]"
      ]
     },
     "execution_count": 20,
     "metadata": {},
     "output_type": "execute_result"
    }
   ],
   "source": [
    "simk = sim(userID)\n",
    "simk"
   ]
  },
  {
   "cell_type": "code",
   "execution_count": 21,
   "metadata": {},
   "outputs": [],
   "source": [
    "#функция для поиска средней оценки пользователя\n",
    "def avg(user):\n",
    "    count = 0\n",
    "    mark = 0\n",
    "    for i in range(1, data.shape[1]):\n",
    "        if data.iloc[user][i] != -1:\n",
    "            count += 1\n",
    "            mark += data.iloc[user][i]\n",
    "    res = round(mark / count,3)\n",
    "    return res"
   ]
  },
  {
   "cell_type": "code",
   "execution_count": 34,
   "metadata": {},
   "outputs": [],
   "source": [
    "avgU = avg(userID)"
   ]
  },
  {
   "cell_type": "code",
   "execution_count": 35,
   "metadata": {},
   "outputs": [],
   "source": [
    "#с помощью метрики косинуса находим предполагаемую оценку пользователя для фильма\n",
    "def getMark(u, movie):\n",
    "    num = 0\n",
    "    denum = 0\n",
    "    if data.iloc[u, movie] == -1:\n",
    "        for v in simk:\n",
    "                if data.iloc[v[0], movie] != -1:\n",
    "                    num += v[1] * (data.iloc[v[0], movie] - avg(v[0]))\n",
    "                    denum += v[1] \n",
    "        res = round(avgU + num / denum, 3)\n",
    "    return res        "
   ]
  },
  {
   "cell_type": "code",
   "execution_count": 36,
   "metadata": {},
   "outputs": [],
   "source": [
    "#получаем результат для всех неоцененных фильмов\n",
    "def firstRes():\n",
    "    result = []\n",
    "    for i in range(data.shape[1]):\n",
    "        if data.iloc[userID, i] == -1:\n",
    "            result.append(\"Movie \"+str(i)+\": \"+ str(getMark(userID, i)))\n",
    "    return result"
   ]
  },
  {
   "cell_type": "code",
   "execution_count": 37,
   "metadata": {},
   "outputs": [
    {
     "data": {
      "text/plain": [
       "['Movie 2: 4.013',\n",
       " 'Movie 8: 3.595',\n",
       " 'Movie 12: 3.204',\n",
       " 'Movie 24: 4.031',\n",
       " 'Movie 28: 2.71',\n",
       " 'Movie 29: 3.469']"
      ]
     },
     "execution_count": 37,
     "metadata": {},
     "output_type": "execute_result"
    }
   ],
   "source": [
    "firstRes()"
   ]
  },
  {
   "cell_type": "code",
   "execution_count": 38,
   "metadata": {},
   "outputs": [],
   "source": [
    "#Для выбора фильма для домашнего просмотра в выходные выберем фильмы, \n",
    "#которые ближайшие по метрике сходства 4 пользователя смотрели дома в выходные.\n",
    "#Уберем из них фильмы, которые пользователь уже смотрел, а из оставшихся порекомендуем тот фильм, что был просмотрен более одного раза,\n",
    "#а если такого нет - рандомный фильм из полученного списка.\n",
    "\n",
    "def getFilm(userID):\n",
    "    movieList = []\n",
    "    res = 0\n",
    "    for v in simk:\n",
    "        usV = v[0]\n",
    "        for movie in range(data.shape[1]):\n",
    "            if data.iloc[usV, movie] != -1 and place.iloc[usV, movie] == ' h' and day.iloc[usV, movie] == ' Sat' or day.iloc[usV, movie] == ' Sun':\n",
    "                movieList.append(movie)\n",
    "    unwatched = []\n",
    "    for i in movieList:\n",
    "        if data.iloc[userID, i] == -1:\n",
    "            unwatched.append(i)\n",
    "    counter = Counter(unwatched) \n",
    "    for i in counter:\n",
    "        if counter[i]>1:\n",
    "            res = i\n",
    "            if res == 0:\n",
    "                res = random.choice(unwatched)\n",
    "    return res"
   ]
  },
  {
   "cell_type": "code",
   "execution_count": 39,
   "metadata": {},
   "outputs": [
    {
     "data": {
      "text/plain": [
       "24"
      ]
     },
     "execution_count": 39,
     "metadata": {},
     "output_type": "execute_result"
    }
   ],
   "source": [
    "getFilm(userID)"
   ]
  },
  {
   "cell_type": "code",
   "execution_count": 40,
   "metadata": {},
   "outputs": [],
   "source": [
    "#записываем результат в файл\n",
    "def writeJson(uderID, firstTask, fileName='result.json'):\n",
    "    result = {\"user\": variant,\n",
    "              \"1\": firstTask,\n",
    "              \"2\": \"Movie \"+str(getFilm(userID) )\n",
    "              }\n",
    "    with open(fileName, 'w') as f:\n",
    "        json.dump(result, f, indent=10)"
   ]
  },
  {
   "cell_type": "code",
   "execution_count": 41,
   "metadata": {},
   "outputs": [],
   "source": [
    "writeJson(userID, firstRes())"
   ]
  },
  {
   "cell_type": "code",
   "execution_count": null,
   "metadata": {},
   "outputs": [],
   "source": []
  },
  {
   "cell_type": "code",
   "execution_count": null,
   "metadata": {},
   "outputs": [],
   "source": []
  },
  {
   "cell_type": "code",
   "execution_count": null,
   "metadata": {},
   "outputs": [],
   "source": []
  },
  {
   "cell_type": "code",
   "execution_count": null,
   "metadata": {},
   "outputs": [],
   "source": []
  },
  {
   "cell_type": "code",
   "execution_count": null,
   "metadata": {},
   "outputs": [],
   "source": []
  },
  {
   "cell_type": "code",
   "execution_count": null,
   "metadata": {},
   "outputs": [],
   "source": []
  },
  {
   "cell_type": "code",
   "execution_count": null,
   "metadata": {},
   "outputs": [],
   "source": []
  },
  {
   "cell_type": "code",
   "execution_count": null,
   "metadata": {},
   "outputs": [],
   "source": []
  },
  {
   "cell_type": "code",
   "execution_count": null,
   "metadata": {},
   "outputs": [],
   "source": []
  }
 ],
 "metadata": {
  "kernelspec": {
   "display_name": "Python 3",
   "language": "python",
   "name": "python3"
  },
  "language_info": {
   "codemirror_mode": {
    "name": "ipython",
    "version": 3
   },
   "file_extension": ".py",
   "mimetype": "text/x-python",
   "name": "python",
   "nbconvert_exporter": "python",
   "pygments_lexer": "ipython3",
   "version": "3.8.3"
  }
 },
 "nbformat": 4,
 "nbformat_minor": 4
}
