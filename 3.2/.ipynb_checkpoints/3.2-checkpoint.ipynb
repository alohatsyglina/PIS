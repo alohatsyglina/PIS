{
 "cells": [
  {
   "cell_type": "code",
   "execution_count": 1,
   "metadata": {},
   "outputs": [],
   "source": [
    "import pandas as pd\n",
    "import numpy as np\n",
    "import math\n",
    "import json\n",
    "from collections import Counter\n",
    "import random"
   ]
  },
  {
   "cell_type": "code",
   "execution_count": 2,
   "metadata": {},
   "outputs": [],
   "source": [
    "from SPARQLWrapper import SPARQLWrapper, JSON\n",
    "import requests"
   ]
  },
  {
   "cell_type": "code",
   "execution_count": 73,
   "metadata": {},
   "outputs": [],
   "source": [
    "#считываем данные \n",
    "data = pd.read_csv('../data.csv')\n",
    "day = pd.read_csv('../context_day.csv')\n",
    "place = pd.read_csv('../context_place.csv')"
   ]
  },
  {
   "cell_type": "code",
   "execution_count": 74,
   "metadata": {},
   "outputs": [
    {
     "data": {
      "text/plain": [
       "Unnamed: 0    User 38\n",
       " Movie 1            3\n",
       " Movie 2           -1\n",
       " Movie 3            1\n",
       " Movie 4            4\n",
       " Movie 5            2\n",
       " Movie 6            3\n",
       " Movie 7            4\n",
       " Movie 8           -1\n",
       " Movie 9            5\n",
       " Movie 10           3\n",
       " Movie 11           3\n",
       " Movie 12          -1\n",
       " Movie 13           3\n",
       " Movie 14           2\n",
       " Movie 15           4\n",
       " Movie 16           3\n",
       " Movie 17           1\n",
       " Movie 18           4\n",
       " Movie 19           2\n",
       " Movie 20           1\n",
       " Movie 21           5\n",
       " Movie 22           4\n",
       " Movie 23           3\n",
       " Movie 24          -1\n",
       " Movie 25           1\n",
       " Movie 26           4\n",
       " Movie 27           3\n",
       " Movie 28          -1\n",
       " Movie 29          -1\n",
       " Movie 30           4\n",
       "Name: 37, dtype: object"
      ]
     },
     "execution_count": 74,
     "metadata": {},
     "output_type": "execute_result"
    }
   ],
   "source": [
    "#выбираем пользователя для расчета\n",
    "variant = 38\n",
    "userID = variant - 1\n",
    "data.iloc[userID]"
   ]
  },
  {
   "cell_type": "code",
   "execution_count": 75,
   "metadata": {},
   "outputs": [],
   "source": [
    "#находим метрику сходства с каждым пользователем\n",
    "def sim(v):\n",
    "    data2 = data.drop(data.columns[0], axis = 1)\n",
    "    resultList = {}\n",
    "    for u in range(data2.shape[0]):\n",
    "        num = 0\n",
    "        vdenum = 0\n",
    "        udenum = 0\n",
    "        if (u != v):        \n",
    "            uv = data2.iloc[[u, v]]\n",
    "            uv = uv.transpose()\n",
    "            for i,movie in uv.iterrows():\n",
    "                if ((movie[u] != -1) & (movie[v] != -1 )):\n",
    "                    num += movie[u] * movie[v]\n",
    "                    udenum += pow(movie[u], 2)\n",
    "                    vdenum += pow(movie[v], 2)\n",
    "                    res = round(num / ((math.sqrt(udenum) * math.sqrt(vdenum))), 3)\n",
    "        resultList[u] = res\n",
    "        #сортируем результат и выбираем четырех ближайших соседей\n",
    "        sim = list(resultList.items())\n",
    "        sim.sort(key = lambda i: i[1], reverse = True)\n",
    "        sim = sim[:4]\n",
    "    return sim"
   ]
  },
  {
   "cell_type": "code",
   "execution_count": 76,
   "metadata": {},
   "outputs": [
    {
     "data": {
      "text/plain": [
       "[(25, 0.932), (21, 0.924), (5, 0.915), (11, 0.91)]"
      ]
     },
     "execution_count": 76,
     "metadata": {},
     "output_type": "execute_result"
    }
   ],
   "source": [
    "simk = sim(userID)\n",
    "simk"
   ]
  },
  {
   "cell_type": "code",
   "execution_count": 77,
   "metadata": {},
   "outputs": [],
   "source": [
    "#функция для поиска средней оценки пользователя\n",
    "def avg(user):\n",
    "    count = 0\n",
    "    mark = 0\n",
    "    for i in range(1, data.shape[1]):\n",
    "        if data.iloc[user][i] != -1:\n",
    "            count += 1\n",
    "            mark += data.iloc[user][i]\n",
    "    res = round(mark / count,3)\n",
    "    return res"
   ]
  },
  {
   "cell_type": "code",
   "execution_count": 78,
   "metadata": {},
   "outputs": [],
   "source": [
    "avgU = avg(userID)"
   ]
  },
  {
   "cell_type": "code",
   "execution_count": 79,
   "metadata": {},
   "outputs": [],
   "source": [
    "#с помощью метрики косинуса находим предполагаемую оценку пользователя для фильма\n",
    "def getMark(u, movie):\n",
    "    num = 0\n",
    "    denum = 0\n",
    "    if data.iloc[u, movie] == -1:\n",
    "        for v in simk:\n",
    "                if data.iloc[v[0], movie] != -1:\n",
    "                    num += v[1] * (data.iloc[v[0], movie] - avg(v[0]))\n",
    "                    denum += v[1] \n",
    "        res = round(avgU + num / denum, 3)\n",
    "    return res       "
   ]
  },
  {
   "cell_type": "code",
   "execution_count": 80,
   "metadata": {},
   "outputs": [],
   "source": [
    "#получаем результат для всех неоцененных фильмов\n",
    "def firstRes():\n",
    "    result = []\n",
    "    for i in range(data.shape[1]):\n",
    "        if data.iloc[userID, i] == -1:\n",
    "            result.append(\"Movie \"+str(i)+\": \"+ str(getMark(userID, i)))\n",
    "    return result"
   ]
  },
  {
   "cell_type": "code",
   "execution_count": 81,
   "metadata": {},
   "outputs": [
    {
     "data": {
      "text/plain": [
       "['Movie 2: 4.013',\n",
       " 'Movie 8: 3.595',\n",
       " 'Movie 12: 3.204',\n",
       " 'Movie 24: 4.031',\n",
       " 'Movie 28: 2.71',\n",
       " 'Movie 29: 3.469']"
      ]
     },
     "execution_count": 81,
     "metadata": {},
     "output_type": "execute_result"
    }
   ],
   "source": [
    "firstRes()"
   ]
  },
  {
   "cell_type": "code",
   "execution_count": 82,
   "metadata": {},
   "outputs": [],
   "source": [
    "#Для выбора фильма для домашнего просмотра в выходные выберем фильмы, \n",
    "#которые ближайшие по метрике сходства 4 пользователя смотрели дома в выходные.\n",
    "#Уберем из них фильмы, которые пользователь уже смотрел, а из оставшихся порекомендуем тот фильм, что был просмотрен более одного раза,\n",
    "#а если такого нет - рандомный фильм из полученного списка.\n",
    "\n",
    "def getFilm(userID):\n",
    "    movieList = []\n",
    "    res = 0\n",
    "    for v in simk:\n",
    "        usV = v[0]\n",
    "        for movie in range(data.shape[1]):\n",
    "            if data.iloc[usV, movie] != -1 and place.iloc[usV, movie] == ' h' and day.iloc[usV, movie] == ' Sat' or day.iloc[usV, movie] == ' Sun':\n",
    "                movieList.append(movie)\n",
    "    unwatched = []\n",
    "    for i in movieList:\n",
    "        if data.iloc[userID, i] == -1:\n",
    "            unwatched.append(i)\n",
    "    counter = Counter(unwatched) \n",
    "    for i in counter:\n",
    "        if counter[i]>1:\n",
    "            res = i\n",
    "            if res == 0:\n",
    "                res = random.choice(unwatched)\n",
    "    return res"
   ]
  },
  {
   "cell_type": "code",
   "execution_count": 83,
   "metadata": {},
   "outputs": [],
   "source": [
    "recomended = getFilm(userID)"
   ]
  },
  {
   "cell_type": "code",
   "execution_count": 84,
   "metadata": {},
   "outputs": [],
   "source": [
    "names = pd.read_csv('../movie_names.csv')"
   ]
  },
  {
   "cell_type": "code",
   "execution_count": 85,
   "metadata": {},
   "outputs": [
    {
     "data": {
      "text/html": [
       "<div>\n",
       "<style scoped>\n",
       "    .dataframe tbody tr th:only-of-type {\n",
       "        vertical-align: middle;\n",
       "    }\n",
       "\n",
       "    .dataframe tbody tr th {\n",
       "        vertical-align: top;\n",
       "    }\n",
       "\n",
       "    .dataframe thead th {\n",
       "        text-align: right;\n",
       "    }\n",
       "</style>\n",
       "<table border=\"1\" class=\"dataframe\">\n",
       "  <thead>\n",
       "    <tr style=\"text-align: right;\">\n",
       "      <th></th>\n",
       "      <th>Movie 1</th>\n",
       "      <th>The Shawshank Redemption</th>\n",
       "    </tr>\n",
       "  </thead>\n",
       "  <tbody>\n",
       "    <tr>\n",
       "      <th>0</th>\n",
       "      <td>Movie 2</td>\n",
       "      <td>The Godfather</td>\n",
       "    </tr>\n",
       "    <tr>\n",
       "      <th>1</th>\n",
       "      <td>Movie 3</td>\n",
       "      <td>The Godfather: Part II</td>\n",
       "    </tr>\n",
       "    <tr>\n",
       "      <th>2</th>\n",
       "      <td>Movie 4</td>\n",
       "      <td>The Dark Knight</td>\n",
       "    </tr>\n",
       "    <tr>\n",
       "      <th>3</th>\n",
       "      <td>Movie 5</td>\n",
       "      <td>12 Angry Men</td>\n",
       "    </tr>\n",
       "    <tr>\n",
       "      <th>4</th>\n",
       "      <td>Movie 6</td>\n",
       "      <td>Schindler's List</td>\n",
       "    </tr>\n",
       "    <tr>\n",
       "      <th>5</th>\n",
       "      <td>Movie 7</td>\n",
       "      <td>The Lord of the Rings: The Return of the King</td>\n",
       "    </tr>\n",
       "    <tr>\n",
       "      <th>6</th>\n",
       "      <td>Movie 8</td>\n",
       "      <td>Pulp Fiction</td>\n",
       "    </tr>\n",
       "    <tr>\n",
       "      <th>7</th>\n",
       "      <td>Movie 9</td>\n",
       "      <td>The Good the Bad and the Ugly</td>\n",
       "    </tr>\n",
       "    <tr>\n",
       "      <th>8</th>\n",
       "      <td>Movie 10</td>\n",
       "      <td>Fight Club</td>\n",
       "    </tr>\n",
       "    <tr>\n",
       "      <th>9</th>\n",
       "      <td>Movie 11</td>\n",
       "      <td>The Lord of the Rings: The Fellowship of the ...</td>\n",
       "    </tr>\n",
       "    <tr>\n",
       "      <th>10</th>\n",
       "      <td>Movie 12</td>\n",
       "      <td>Forrest Gump</td>\n",
       "    </tr>\n",
       "    <tr>\n",
       "      <th>11</th>\n",
       "      <td>Movie 13</td>\n",
       "      <td>Star Wars: Episode V - The Empire Strikes Back</td>\n",
       "    </tr>\n",
       "    <tr>\n",
       "      <th>12</th>\n",
       "      <td>Movie 14</td>\n",
       "      <td>Inception</td>\n",
       "    </tr>\n",
       "    <tr>\n",
       "      <th>13</th>\n",
       "      <td>Movie 15</td>\n",
       "      <td>The Lord of the Rings: The Two Towers</td>\n",
       "    </tr>\n",
       "    <tr>\n",
       "      <th>14</th>\n",
       "      <td>Movie 16</td>\n",
       "      <td>One Flew Over the Cuckoo's Nest</td>\n",
       "    </tr>\n",
       "    <tr>\n",
       "      <th>15</th>\n",
       "      <td>Movie 17</td>\n",
       "      <td>Goodfellas</td>\n",
       "    </tr>\n",
       "    <tr>\n",
       "      <th>16</th>\n",
       "      <td>Movie 18</td>\n",
       "      <td>The Matrix</td>\n",
       "    </tr>\n",
       "    <tr>\n",
       "      <th>17</th>\n",
       "      <td>Movie 19</td>\n",
       "      <td>Seven Samurai</td>\n",
       "    </tr>\n",
       "    <tr>\n",
       "      <th>18</th>\n",
       "      <td>Movie 20</td>\n",
       "      <td>City of God</td>\n",
       "    </tr>\n",
       "    <tr>\n",
       "      <th>19</th>\n",
       "      <td>Movie 21</td>\n",
       "      <td>Se7en</td>\n",
       "    </tr>\n",
       "    <tr>\n",
       "      <th>20</th>\n",
       "      <td>Movie 22</td>\n",
       "      <td>Star Wars: Episode IV - A New Hope</td>\n",
       "    </tr>\n",
       "    <tr>\n",
       "      <th>21</th>\n",
       "      <td>Movie 23</td>\n",
       "      <td>The Silence of the Lambs</td>\n",
       "    </tr>\n",
       "    <tr>\n",
       "      <th>22</th>\n",
       "      <td>Movie 24</td>\n",
       "      <td>It's a Wonderful Life</td>\n",
       "    </tr>\n",
       "    <tr>\n",
       "      <th>23</th>\n",
       "      <td>Movie 25</td>\n",
       "      <td>Life Is Beautiful</td>\n",
       "    </tr>\n",
       "    <tr>\n",
       "      <th>24</th>\n",
       "      <td>Movie 26</td>\n",
       "      <td>The Usual Suspects</td>\n",
       "    </tr>\n",
       "    <tr>\n",
       "      <th>25</th>\n",
       "      <td>Movie 27</td>\n",
       "      <td>Spirited Away</td>\n",
       "    </tr>\n",
       "    <tr>\n",
       "      <th>26</th>\n",
       "      <td>Movie 28</td>\n",
       "      <td>Saving Private Ryan</td>\n",
       "    </tr>\n",
       "    <tr>\n",
       "      <th>27</th>\n",
       "      <td>Movie 29</td>\n",
       "      <td>Leon: The Professional</td>\n",
       "    </tr>\n",
       "    <tr>\n",
       "      <th>28</th>\n",
       "      <td>Movie 30</td>\n",
       "      <td>The Green Mile</td>\n",
       "    </tr>\n",
       "  </tbody>\n",
       "</table>\n",
       "</div>"
      ],
      "text/plain": [
       "     Movie 1                           The Shawshank Redemption\n",
       "0    Movie 2                                      The Godfather\n",
       "1    Movie 3                             The Godfather: Part II\n",
       "2    Movie 4                                    The Dark Knight\n",
       "3    Movie 5                                       12 Angry Men\n",
       "4    Movie 6                                   Schindler's List\n",
       "5    Movie 7      The Lord of the Rings: The Return of the King\n",
       "6    Movie 8                                       Pulp Fiction\n",
       "7    Movie 9                      The Good the Bad and the Ugly\n",
       "8   Movie 10                                         Fight Club\n",
       "9   Movie 11   The Lord of the Rings: The Fellowship of the ...\n",
       "10  Movie 12                                       Forrest Gump\n",
       "11  Movie 13     Star Wars: Episode V - The Empire Strikes Back\n",
       "12  Movie 14                                          Inception\n",
       "13  Movie 15              The Lord of the Rings: The Two Towers\n",
       "14  Movie 16                    One Flew Over the Cuckoo's Nest\n",
       "15  Movie 17                                         Goodfellas\n",
       "16  Movie 18                                         The Matrix\n",
       "17  Movie 19                                      Seven Samurai\n",
       "18  Movie 20                                        City of God\n",
       "19  Movie 21                                              Se7en\n",
       "20  Movie 22                 Star Wars: Episode IV - A New Hope\n",
       "21  Movie 23                           The Silence of the Lambs\n",
       "22  Movie 24                              It's a Wonderful Life\n",
       "23  Movie 25                                  Life Is Beautiful\n",
       "24  Movie 26                                 The Usual Suspects\n",
       "25  Movie 27                                      Spirited Away\n",
       "26  Movie 28                                Saving Private Ryan\n",
       "27  Movie 29                             Leon: The Professional\n",
       "28  Movie 30                                     The Green Mile"
      ]
     },
     "execution_count": 85,
     "metadata": {},
     "output_type": "execute_result"
    }
   ],
   "source": [
    "names"
   ]
  },
  {
   "cell_type": "code",
   "execution_count": 86,
   "metadata": {},
   "outputs": [
    {
     "data": {
      "text/plain": [
       "\" It's a Wonderful Life\""
      ]
     },
     "execution_count": 86,
     "metadata": {},
     "output_type": "execute_result"
    }
   ],
   "source": [
    "for i in range(0, names.shape[0]):\n",
    "    if names.iloc[i, 0] == 'Movie '+str(recomended):\n",
    "        movieName = names.iloc[i,1]\n",
    "movieName"
   ]
  },
  {
   "cell_type": "code",
   "execution_count": 87,
   "metadata": {},
   "outputs": [
    {
     "data": {
      "text/plain": [
       "'Q204191'"
      ]
     },
     "execution_count": 87,
     "metadata": {},
     "output_type": "execute_result"
    }
   ],
   "source": [
    "API_ENDPOINT = \"https://www.wikidata.org/w/api.php\"\n",
    "params = {\n",
    "    'action' : 'wbsearchentities',\n",
    "    'format' : 'json',\n",
    "    'language' : 'en',\n",
    "    'search': movieName\n",
    "}\n",
    "res = requests.get(API_ENDPOINT, params = params)\n",
    "res.json()['search'][0]['id']"
   ]
  },
  {
   "cell_type": "code",
   "execution_count": 88,
   "metadata": {},
   "outputs": [],
   "source": [
    "sparql = SPARQLWrapper(\"https://query.wikidata.org/sparql\")\n",
    "\n",
    "query = \"\"\"\n",
    "\n",
    "SELECT ?awardLabel\n",
    "WHERE \n",
    "{\n",
    "  wd:Q204191 wdt:P57 ?director.\n",
    "  ?director wdt:P166 ?award.\n",
    "  SERVICE wikibase:label { bd:serviceParam wikibase:language \"[AUTO_LANGUAGE],en\". }\n",
    "}\n",
    " \n",
    "\"\"\"\n",
    "\n",
    "sparql.setQuery(query)\n",
    "\n",
    "sparql.setReturnFormat(JSON)\n",
    "results = sparql.query().convert()"
   ]
  },
  {
   "cell_type": "code",
   "execution_count": 89,
   "metadata": {},
   "outputs": [
    {
     "data": {
      "text/html": [
       "<div>\n",
       "<style scoped>\n",
       "    .dataframe tbody tr th:only-of-type {\n",
       "        vertical-align: middle;\n",
       "    }\n",
       "\n",
       "    .dataframe tbody tr th {\n",
       "        vertical-align: top;\n",
       "    }\n",
       "\n",
       "    .dataframe thead th {\n",
       "        text-align: right;\n",
       "    }\n",
       "</style>\n",
       "<table border=\"1\" class=\"dataframe\">\n",
       "  <thead>\n",
       "    <tr style=\"text-align: right;\">\n",
       "      <th></th>\n",
       "      <th>awardLabel.value</th>\n",
       "    </tr>\n",
       "  </thead>\n",
       "  <tbody>\n",
       "    <tr>\n",
       "      <th>0</th>\n",
       "      <td>Academy Awards</td>\n",
       "    </tr>\n",
       "    <tr>\n",
       "      <th>1</th>\n",
       "      <td>Academy Award for Best Director</td>\n",
       "    </tr>\n",
       "    <tr>\n",
       "      <th>2</th>\n",
       "      <td>AFI Life Achievement Award</td>\n",
       "    </tr>\n",
       "    <tr>\n",
       "      <th>3</th>\n",
       "      <td>Legion of Merit</td>\n",
       "    </tr>\n",
       "    <tr>\n",
       "      <th>4</th>\n",
       "      <td>Distinguished Service Medal</td>\n",
       "    </tr>\n",
       "  </tbody>\n",
       "</table>\n",
       "</div>"
      ],
      "text/plain": [
       "                  awardLabel.value\n",
       "0                   Academy Awards\n",
       "1  Academy Award for Best Director\n",
       "2       AFI Life Achievement Award\n",
       "3                  Legion of Merit\n",
       "4      Distinguished Service Medal"
      ]
     },
     "execution_count": 89,
     "metadata": {},
     "output_type": "execute_result"
    }
   ],
   "source": [
    "results_df = pd.json_normalize(results['results']['bindings'])\n",
    "results_df[['awardLabel.value']].head()"
   ]
  },
  {
   "cell_type": "code",
   "execution_count": 90,
   "metadata": {},
   "outputs": [],
   "source": [
    "with open('sparqlRes.txt', 'w') as file:\n",
    "        json.dump(results, file, indent=10)"
   ]
  }
 ],
 "metadata": {
  "kernelspec": {
   "display_name": "Python 3",
   "language": "python",
   "name": "python3"
  },
  "language_info": {
   "codemirror_mode": {
    "name": "ipython",
    "version": 3
   },
   "file_extension": ".py",
   "mimetype": "text/x-python",
   "name": "python",
   "nbconvert_exporter": "python",
   "pygments_lexer": "ipython3",
   "version": "3.8.3"
  }
 },
 "nbformat": 4,
 "nbformat_minor": 4
}
