{
 "cells": [
  {
   "cell_type": "markdown",
   "metadata": {},
   "source": [
    "# Surprise Homework"
   ]
  },
  {
   "cell_type": "code",
   "execution_count": 5,
   "metadata": {},
   "outputs": [],
   "source": [
    "import io\n",
    "import os\n",
    "import numpy as np\n",
    "import pandas as pd\n",
    "from collections import defaultdict\n",
    "from surprise import Dataset\n",
    "from surprise.model_selection import train_test_split\n",
    "from surprise.model_selection import cross_validate\n",
    "from surprise.model_selection import KFold\n",
    "from surprise import SVD\n",
    "from surprise import get_dataset_dir\n",
    "from surprise import KNNWithMeans\n",
    "from surprise import NormalPredictor"
   ]
  },
  {
   "cell_type": "markdown",
   "metadata": {},
   "source": [
    "### Load Data"
   ]
  },
  {
   "cell_type": "code",
   "execution_count": 7,
   "metadata": {},
   "outputs": [
    {
     "data": {
      "text/plain": [
       "<surprise.dataset.DatasetAutoFolds at 0x2a8d3f5fa90>"
      ]
     },
     "execution_count": 7,
     "metadata": {},
     "output_type": "execute_result"
    }
   ],
   "source": [
    "data = Dataset.load_builtin('ml-100k')\n",
    "data"
   ]
  },
  {
   "cell_type": "code",
   "execution_count": 4,
   "metadata": {},
   "outputs": [],
   "source": [
    "trainset, testset = train_test_split(data, test_size=.25)"
   ]
  },
  {
   "cell_type": "markdown",
   "metadata": {},
   "source": [
    "### Define Algorithms"
   ]
  },
  {
   "cell_type": "markdown",
   "metadata": {},
   "source": [
    "##### прогнозирование случайного рейтинга на основе распределения всех рейтингов в наборе"
   ]
  },
  {
   "cell_type": "code",
   "execution_count": 8,
   "metadata": {},
   "outputs": [
    {
     "name": "stdout",
     "output_type": "stream",
     "text": [
      "Evaluating RMSE of algorithm NormalPredictor on 5 split(s).\n",
      "\n",
      "                  Fold 1  Fold 2  Fold 3  Fold 4  Fold 5  Mean    Std     \n",
      "RMSE (testset)    1.5367  1.5148  1.5199  1.5061  1.5166  1.5188  0.0101  \n",
      "Fit time          0.16    0.21    0.23    0.21    0.22    0.21    0.03    \n",
      "Test time         0.27    0.21    0.27    0.24    0.25    0.25    0.02    \n"
     ]
    }
   ],
   "source": [
    "NP = NormalPredictor()\n",
    "cross_val_NP = cross_validate(NP, data, measures = ['RMSE'], verbose = True)"
   ]
  },
  {
   "cell_type": "markdown",
   "metadata": {},
   "source": [
    "##### user-based коллаборативную фильтрацию, метод kNN, k = 30, метрика косинуса"
   ]
  },
  {
   "cell_type": "code",
   "execution_count": 9,
   "metadata": {},
   "outputs": [
    {
     "name": "stdout",
     "output_type": "stream",
     "text": [
      "Computing the cosine similarity matrix...\n",
      "Done computing similarity matrix.\n",
      "Computing the cosine similarity matrix...\n",
      "Done computing similarity matrix.\n",
      "Computing the cosine similarity matrix...\n",
      "Done computing similarity matrix.\n",
      "Computing the cosine similarity matrix...\n",
      "Done computing similarity matrix.\n",
      "Computing the cosine similarity matrix...\n",
      "Done computing similarity matrix.\n",
      "Evaluating RMSE of algorithm KNNWithMeans on 5 split(s).\n",
      "\n",
      "                  Fold 1  Fold 2  Fold 3  Fold 4  Fold 5  Mean    Std     \n",
      "RMSE (testset)    0.9604  0.9581  0.9656  0.9535  0.9581  0.9591  0.0040  \n",
      "Fit time          2.14    2.28    2.45    2.23    2.26    2.27    0.10    \n",
      "Test time         4.52    5.19    4.56    4.81    4.74    4.77    0.24    \n"
     ]
    }
   ],
   "source": [
    "KNNcos = KNNWithMeans(k = 30, sim_options = { 'name': 'cosine' })\n",
    "cross_val_KNNcos = cross_validate(KNNcos, data, measures = ['RMSE'], verbose = True)"
   ]
  },
  {
   "cell_type": "markdown",
   "metadata": {},
   "source": [
    "##### user-based коллаборативную фильтрацию, метод kNN, k = 30, метрика Mean Squared Difference"
   ]
  },
  {
   "cell_type": "code",
   "execution_count": 11,
   "metadata": {},
   "outputs": [
    {
     "name": "stdout",
     "output_type": "stream",
     "text": [
      "Computing the msd similarity matrix...\n",
      "Done computing similarity matrix.\n",
      "Computing the msd similarity matrix...\n",
      "Done computing similarity matrix.\n",
      "Computing the msd similarity matrix...\n",
      "Done computing similarity matrix.\n",
      "Computing the msd similarity matrix...\n",
      "Done computing similarity matrix.\n",
      "Computing the msd similarity matrix...\n",
      "Done computing similarity matrix.\n",
      "Evaluating RMSE of algorithm KNNWithMeans on 5 split(s).\n",
      "\n",
      "                  Fold 1  Fold 2  Fold 3  Fold 4  Fold 5  Mean    Std     \n",
      "RMSE (testset)    0.9509  0.9457  0.9631  0.9573  0.9447  0.9523  0.0070  \n",
      "Fit time          0.68    0.77    0.77    0.75    0.72    0.74    0.03    \n",
      "Test time         4.38    4.94    5.14    4.94    4.67    4.81    0.26    \n"
     ]
    }
   ],
   "source": [
    "KNNmsd = KNNWithMeans(k = 30, sim_options = {'name': 'msd'})\n",
    "cross_val_KNNmsd = cross_validate(KNNmsd, data, measures = ['RMSE'], verbose = True)"
   ]
  },
  {
   "cell_type": "markdown",
   "metadata": {},
   "source": [
    "##### user-based коллаборативную фильтрацию, метод kNN, k = 30, метрика корреляция Пирсона"
   ]
  },
  {
   "cell_type": "code",
   "execution_count": 12,
   "metadata": {},
   "outputs": [
    {
     "name": "stdout",
     "output_type": "stream",
     "text": [
      "Computing the pearson similarity matrix...\n",
      "Done computing similarity matrix.\n",
      "Computing the pearson similarity matrix...\n",
      "Done computing similarity matrix.\n",
      "Computing the pearson similarity matrix...\n",
      "Done computing similarity matrix.\n",
      "Computing the pearson similarity matrix...\n",
      "Done computing similarity matrix.\n",
      "Computing the pearson similarity matrix...\n",
      "Done computing similarity matrix.\n",
      "Evaluating RMSE of algorithm KNNWithMeans on 5 split(s).\n",
      "\n",
      "                  Fold 1  Fold 2  Fold 3  Fold 4  Fold 5  Mean    Std     \n",
      "RMSE (testset)    0.9509  0.9475  0.9534  0.9631  0.9477  0.9525  0.0057  \n",
      "Fit time          3.12    3.12    2.94    3.22    3.20    3.12    0.10    \n",
      "Test time         5.18    4.50    4.77    5.33    5.13    4.98    0.30    \n"
     ]
    }
   ],
   "source": [
    "KNNpearson = KNNWithMeans(k = 30, sim_options = { 'name': 'pearson' })\n",
    "cross_val_KNNpearson = cross_validate(KNNpearson, data, measures = ['RMSE'], verbose = True)"
   ]
  },
  {
   "cell_type": "markdown",
   "metadata": {},
   "source": [
    "##### SVD алгоритм"
   ]
  },
  {
   "cell_type": "code",
   "execution_count": 13,
   "metadata": {},
   "outputs": [
    {
     "name": "stdout",
     "output_type": "stream",
     "text": [
      "Evaluating RMSE of algorithm SVD on 5 split(s).\n",
      "\n",
      "                  Fold 1  Fold 2  Fold 3  Fold 4  Fold 5  Mean    Std     \n",
      "RMSE (testset)    0.9308  0.9463  0.9365  0.9351  0.9360  0.9369  0.0051  \n",
      "Fit time          6.50    6.60    6.10    6.68    6.39    6.45    0.20    \n",
      "Test time         0.30    0.30    0.19    0.22    0.28    0.26    0.05    \n"
     ]
    }
   ],
   "source": [
    "SVDalg = SVD()\n",
    "cross_val_SVD = cross_validate(SVDalg, data, measures = ['RMSE'], verbose = True)"
   ]
  },
  {
   "cell_type": "code",
   "execution_count": 14,
   "metadata": {},
   "outputs": [
    {
     "data": {
      "text/plain": [
       "{'NP': 1.519,\n",
       " 'KNNcos': 0.959,\n",
       " 'KNNmsd': 0.952,\n",
       " 'KNNpearson': 0.953,\n",
       " 'SVD': 0.937}"
      ]
     },
     "execution_count": 14,
     "metadata": {},
     "output_type": "execute_result"
    }
   ],
   "source": [
    "RSMA = {}\n",
    "RSMA['NP'] = round(cross_val_NP['test_rmse'].mean(), 3)\n",
    "RSMA['KNNcos'] = round(cross_val_KNNcos['test_rmse'].mean(), 3)\n",
    "RSMA['KNNmsd'] = round(cross_val_KNNmsd['test_rmse'].mean(), 3)\n",
    "RSMA['KNNpearson'] = round(cross_val_KNNpearson['test_rmse'].mean(), 3)\n",
    "RSMA['SVD'] = round(cross_val_SVD['test_rmse'].mean(), 3)\n",
    "\n",
    "RSMA"
   ]
  },
  {
   "cell_type": "markdown",
   "metadata": {},
   "source": [
    "### Best Algorithm"
   ]
  },
  {
   "cell_type": "code",
   "execution_count": 15,
   "metadata": {},
   "outputs": [
    {
     "data": {
      "text/plain": [
       "'SVD'"
      ]
     },
     "execution_count": 15,
     "metadata": {},
     "output_type": "execute_result"
    }
   ],
   "source": [
    "algorithm = min(RSMA.items(), key=lambda x: x[1])[0]\n",
    "algorithm"
   ]
  },
  {
   "cell_type": "code",
   "execution_count": 16,
   "metadata": {},
   "outputs": [],
   "source": [
    "best_algorithm = SVDalg"
   ]
  },
  {
   "cell_type": "markdown",
   "metadata": {},
   "source": [
    "### Calculate precision@k and recall@k"
   ]
  },
  {
   "cell_type": "code",
   "execution_count": 17,
   "metadata": {},
   "outputs": [],
   "source": [
    "def precision_recall_at_k(predictions, k = 10, threshold = 3.5):\n",
    "    \"\"\"Return precision and recall at k metrics for each user\"\"\"\n",
    "\n",
    "    # First map the predictions to each user.\n",
    "    user_est_true = defaultdict(list)\n",
    "    for uid, _, true_r, est, _ in predictions:\n",
    "        user_est_true[uid].append((est, true_r))\n",
    "\n",
    "    precisions = dict()\n",
    "    recalls = dict()\n",
    "    for uid, user_ratings in user_est_true.items():\n",
    "\n",
    "        # Sort user ratings by estimated value\n",
    "        user_ratings.sort(key = lambda x: x[0], reverse=True)\n",
    "\n",
    "        # Number of relevant items\n",
    "        n_rel = sum((true_r >= threshold) for (_, true_r) in user_ratings)\n",
    "\n",
    "        # Number of recommended items in top k\n",
    "        n_rec_k = sum((est >= threshold) for (est, _) in user_ratings[:k])\n",
    "\n",
    "        # Number of relevant and recommended items in top k\n",
    "        n_rel_and_rec_k = sum(((true_r >= threshold) and (est >= threshold))\n",
    "                              for (est, true_r) in user_ratings[:k])\n",
    "\n",
    "        # Precision@K: Proportion of recommended items that are relevant\n",
    "        # When n_rec_k is 0, Precision is undefined. We here set it to 0.\n",
    "\n",
    "        precisions[uid] = n_rel_and_rec_k / n_rec_k if n_rec_k != 0 else 0\n",
    "\n",
    "        # Recall@K: Proportion of relevant items that are recommended\n",
    "        # When n_rel is 0, Recall is undefined. We here set it to 0.\n",
    "\n",
    "        recalls[uid] = n_rel_and_rec_k / n_rel if n_rel != 0 else 0\n",
    "\n",
    "    return precisions, recalls\n",
    "\n",
    "algo = best_algorithm\n",
    "kf = KFold(n_splits = 5)\n",
    "\n",
    "for trainset, testset in kf.split(data):\n",
    "    algo.fit(trainset)\n",
    "    predictions = algo.test(testset)\n",
    "    precisions, recalls = precision_recall_at_k(predictions, k = 5, threshold = 3.52)"
   ]
  },
  {
   "cell_type": "code",
   "execution_count": 20,
   "metadata": {},
   "outputs": [
    {
     "name": "stdout",
     "output_type": "stream",
     "text": [
      "precision@k =  0.7249911629551079\n",
      "recall@k =  0.4106242211830241\n"
     ]
    }
   ],
   "source": [
    "print('precision@k = ', sum(prec for prec in precisions.values()) / len(precisions))\n",
    "print('recall@k = ', sum(rec for rec in recalls.values()) / len(recalls))"
   ]
  },
  {
   "cell_type": "markdown",
   "metadata": {},
   "source": [
    "### Predict"
   ]
  },
  {
   "cell_type": "code",
   "execution_count": 21,
   "metadata": {},
   "outputs": [],
   "source": [
    "def get_top_n(predictions, n = 10):\n",
    "    # First map the predictions to each user.\n",
    "    top_n = defaultdict(list)\n",
    "    for uid, iid, true_r, est, _ in predictions:\n",
    "        top_n[uid].append((iid, est))\n",
    "\n",
    "    # Then sort the predictions for each user and retrieve the k highest ones.\n",
    "    for uid, user_ratings in top_n.items():\n",
    "        user_ratings.sort(key=lambda x: x[1], reverse=True)\n",
    "        top_n[uid] = user_ratings[:n]\n",
    "\n",
    "    return top_n"
   ]
  },
  {
   "cell_type": "code",
   "execution_count": 27,
   "metadata": {},
   "outputs": [],
   "source": [
    "algo = best_algorithm\n",
    "algo.fit(trainset)\n",
    "\n",
    "# Than predict ratings for all pairs (u, i) that are NOT in the training set.\n",
    "testset = trainset.build_anti_testset()\n",
    "predictions = algo.test(testset)\n",
    "\n",
    "# Than predict ratings for all pairs (u, i) that are NOT in the training set.\n",
    "testset = trainset.build_anti_testset()\n",
    "predictions = algo.test(testset)\n",
    "\n",
    "top_n = get_top_n(predictions, n = 5)\n",
    "\n",
    "for uid, user_ratings in top_n.items():\n",
    "    if uid == '38':\n",
    "        movie_list = [iid for (iid, _) in user_ratings]\n",
    "        ratings = user_ratings"
   ]
  },
  {
   "cell_type": "code",
   "execution_count": 31,
   "metadata": {},
   "outputs": [
    {
     "data": {
      "text/plain": [
       "[('515', 5),\n",
       " ('408', 5),\n",
       " ('923', 5),\n",
       " ('474', 4.79817050031963),\n",
       " ('316', 4.7914227464788794)]"
      ]
     },
     "execution_count": 31,
     "metadata": {},
     "output_type": "execute_result"
    }
   ],
   "source": [
    "movie_list"
   ]
  },
  {
   "cell_type": "code",
   "execution_count": 28,
   "metadata": {},
   "outputs": [
    {
     "data": {
      "text/plain": [
       "{'515': ('Local Hero (1983)', '01-Jan-1983'),\n",
       " '408': ('Jack (1996)', '07-Aug-1996'),\n",
       " '923': ('White Squall (1996)', '01-Jan-1996'),\n",
       " '474': ('Trainspotting (1996)', '19-Jul-1996'),\n",
       " '316': ('In the Name of the Father (1993)', '01-Jan-1993')}"
      ]
     },
     "execution_count": 28,
     "metadata": {},
     "output_type": "execute_result"
    }
   ],
   "source": [
    "def get_info(movie_list):\n",
    "    path = get_dataset_dir() + '/ml-100k/ml-100k/u.item'\n",
    "    info = {}\n",
    "    data = pd.read_csv(path, sep='|',encoding='ISO-8859-1', header = None) \n",
    "    for movie in movie_list:\n",
    "        row = data.iloc[int(movie)]\n",
    "        info[movie] = (row[1], row[2])\n",
    "    return info\n",
    "movies_info = get_info(movie_list)\n",
    "movies_info"
   ]
  },
  {
   "cell_type": "code",
   "execution_count": 38,
   "metadata": {},
   "outputs": [],
   "source": [
    "ratings = dict(ratings)\n",
    "file = open('results.txt','w')\n",
    "file.write('User 38 ' + '\\n')\n",
    "for movie in movies_info:\n",
    "    info= str(movie) + ' ' + str(movies_info[movie]) + ' ' + str(round(ratings[movie],3))\n",
    "    file.write(info + '\\n')\n",
    "file.close()"
   ]
  },
  {
   "cell_type": "code",
   "execution_count": null,
   "metadata": {},
   "outputs": [],
   "source": []
  },
  {
   "cell_type": "code",
   "execution_count": null,
   "metadata": {},
   "outputs": [],
   "source": []
  }
 ],
 "metadata": {
  "kernelspec": {
   "display_name": "Python 3",
   "language": "python",
   "name": "python3"
  },
  "language_info": {
   "codemirror_mode": {
    "name": "ipython",
    "version": 3
   },
   "file_extension": ".py",
   "mimetype": "text/x-python",
   "name": "python",
   "nbconvert_exporter": "python",
   "pygments_lexer": "ipython3",
   "version": "3.8.3"
  }
 },
 "nbformat": 4,
 "nbformat_minor": 4
}
